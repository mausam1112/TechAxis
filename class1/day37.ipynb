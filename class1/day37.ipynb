{
 "cells": [
  {
   "cell_type": "markdown",
   "id": "bb7ff07e",
   "metadata": {},
   "source": [
    "# Web\tScraping\n",
    "- The process of automatically extracting data from websites, web pages, and other online sources.\n",
    "\n",
    "## Use Cases:\n",
    "- Price Monitoring: Extracting prices from e-commerce websites to track price changes.\n",
    "- News Aggregation: Scraping news articles from various sources to create a centralized news feed.\n",
    "- Job Listing: Extracting job listings from job boards to create a personalized job search feed.\n",
    "- Market Research: \n",
    "- Academic Research:\n",
    "\n",
    "## Tools required for Web Scraping:\n",
    "- Requests: To download web pages.\n",
    "- BeautifulSoup : To parse HTML  documents to extract data.\n",
    "- Selenium: To interact with web pages and handle dynamic JavaScript-rendered sites.\n",
    "\n",
    "## Ethics of Scraping\n",
    "- Check Term of service.\n",
    "- Check robots.txt\n",
    "- Avoid the overloading of server\n",
    "- Donot scrape personal and sensetive data"
   ]
  },
  {
   "cell_type": "code",
   "execution_count": null,
   "id": "9b8c5f75",
   "metadata": {},
   "outputs": [],
   "source": []
  }
 ],
 "metadata": {
  "kernelspec": {
   "display_name": "Python 3",
   "language": "python",
   "name": "python3"
  },
  "language_info": {
   "name": "python",
   "version": "3.11.11"
  }
 },
 "nbformat": 4,
 "nbformat_minor": 5
}
