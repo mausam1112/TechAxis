{
 "cells": [
  {
   "cell_type": "markdown",
   "id": "5881201a",
   "metadata": {},
   "source": [
    "## \tOverfitting\t&\tRegularization\tTechniques\t(Discussion)"
   ]
  },
  {
   "cell_type": "markdown",
   "id": "cb7533cd",
   "metadata": {},
   "source": [
    "### Overfitting\n",
    "- It is the condition when the model memorizes all the training data patterns instead of extracting general pattern in the training data."
   ]
  },
  {
   "cell_type": "markdown",
   "id": "6fc47ad7",
   "metadata": {},
   "source": [
    "### Regularization\n",
    "- used to handle the overfitting issue.\n",
    "- helps to keep the model simple.\n",
    "\n",
    "#### Types of Regularization\n",
    "- L1 (Lasso) Regularization\n",
    "  - adds sum of absoulute value of weights to the loss as penalty.\n",
    "  - converts some weight values into zero.\n",
    "  - useful if we think some features in the dataset are irrelevant. \n",
    "- L2 (Ridge) Regularization\n",
    "  - adds sum of square of weights to the loss as penalty.\n",
    "  - converts some weight values into near zero\n",
    "  - useful if we think every features in the dataset has some contribution in output."
   ]
  },
  {
   "cell_type": "markdown",
   "id": "8353de58",
   "metadata": {},
   "source": []
  },
  {
   "cell_type": "code",
   "execution_count": 1,
   "id": "47d8af7c",
   "metadata": {},
   "outputs": [],
   "source": [
    "from sklearn.linear_model import  Ridge, Lasso"
   ]
  },
  {
   "cell_type": "code",
   "execution_count": 3,
   "id": "79983e2b",
   "metadata": {},
   "outputs": [],
   "source": [
    "from sklearn.linear_model import LogisticRegression\n",
    "\n",
    "lr_clf = LogisticRegression(penalty='l2')"
   ]
  }
 ],
 "metadata": {
  "kernelspec": {
   "display_name": "Python 3",
   "language": "python",
   "name": "python3"
  },
  "language_info": {
   "codemirror_mode": {
    "name": "ipython",
    "version": 3
   },
   "file_extension": ".py",
   "mimetype": "text/x-python",
   "name": "python",
   "nbconvert_exporter": "python",
   "pygments_lexer": "ipython3",
   "version": "3.11.11"
  }
 },
 "nbformat": 4,
 "nbformat_minor": 5
}
