{
 "cells": [
  {
   "cell_type": "markdown",
   "id": "c3bbe66d",
   "metadata": {},
   "source": [
    "## Time-Series\tAnalysis\t-\tBasics\t&\tTheory"
   ]
  },
  {
   "cell_type": "markdown",
   "id": "711e8432",
   "metadata": {},
   "source": [
    "### Time Series Data\n",
    "- The squence of data points collected or recorded as successive points of time or in time order usually at regular interval of time.\n",
    "- helps to analyze the pattern over time\n",
    "- helps to forecast future values based on past values.\n",
    "\n",
    "    #### Examples\n",
    "    - Daily Stock prices \n",
    "    - Hourly temperature readings\n",
    "    - Monthly electricity consumption\n",
    "    - Annual sales revenue"
   ]
  },
  {
   "cell_type": "markdown",
   "id": "1e39bfac",
   "metadata": {},
   "source": [
    "## Types of Time Series Data\n",
    "- Based on Number of variables/features collected\n",
    "    - **Univariate**: One variable is measured over time. For example, the daily closing price of a stock, the daily temperature in a city.\n",
    "    - **Multivariate**: Multiple variables are measured over time. For example, the temperatue, humidity, and wind speed in a city over time.\n",
    "- Based on point of time when data is collected\n",
    "    - **Discrete Time Series**: Data is collected at fixed time intervals. For example, hourly, daily, weekly, monthly.\n",
    "    - **Continuous Time Series**: Data is collected at any time. For example, sensor readings.\n",
    "- Based on statistical measurement\n",
    "    - **Stationary Time Series**: The mean and variance of the data do not change over time.\n",
    "    - **Non-stationary Time Series**: The mean and variance of the data change over time."
   ]
  },
  {
   "cell_type": "markdown",
   "id": "35610db7",
   "metadata": {},
   "source": [
    "## Components of time series data\n",
    "- **Trend**: The long-term progression of the series\n",
    "- **Seasonality**: Regular fluctuations that occur at fixed intervals (e.g., daily, weekly, monthly)\n",
    "- **Noise**: Random fluctuations around the trend and seasonality"
   ]
  },
  {
   "cell_type": "markdown",
   "id": "6711b19d",
   "metadata": {},
   "source": [
    "## Terminologies\n",
    "1. **Lag**: It refers to the previous valujes of time series data that can be used to predict the future values. A lag of 1 means the data point from previous time step (t-1) and a lag of 2 means the data point from two previous time steps (t-2).\n",
    "   - Example: If today is Monday\n",
    "     - data recorded in Monday is considered as present data (t)\n",
    "     - data recorded in Sunday is considered as past data (t-1) with lag 1\n",
    "     - data recorded in Saturday is considered as past data (t-2) with lag 2\n",
    "2. **Autocorrelation**:\n",
    "   It is measurement of similarity between a time series and lagged versions of itself over successive time intervals. It helps in identifying repeating patterns or seasonality.\n",
    "3. **Stationary**: A time series is said to be stationary if its statistical properties such as mean, variance, and autocorrelation do not change over time.\n",
    "   - How to check for stationary?\n",
    "     - Visual Inspection\n",
    "     - Rolling statistics\n",
    "     - Augmented Dickey Fuller (ADF) test: hypothesis test, null hypothesis is that the series is non-stationary and alternative hypothesis is that the series is stationary.\n",
    "\n",
    "## Techniques to make a series stationary\n",
    "1. **Differencing**: It is a process of subtracting the previous value from the current value. This helps in removing the trend and making the series stationary. y_(t) - y_(t-1)\n",
    "2. **Log Transformation**\n",
    "3. **Seasonal Differencing**"
   ]
  },
  {
   "cell_type": "markdown",
   "id": "942a88bf",
   "metadata": {},
   "source": []
  }
 ],
 "metadata": {
  "kernelspec": {
   "display_name": "Python 3",
   "language": "python",
   "name": "python3"
  },
  "language_info": {
   "name": "python",
   "version": "3.11.11"
  }
 },
 "nbformat": 4,
 "nbformat_minor": 5
}
