{
 "cells": [
  {
   "cell_type": "markdown",
   "id": "8079f9de",
   "metadata": {},
   "source": [
    "# \tIntroduction\tto\tDeep\tLearning\t&\tNeural\tNetworks\t"
   ]
  },
  {
   "cell_type": "markdown",
   "id": "8028b36a",
   "metadata": {},
   "source": [
    "For GPU computation using tensorflow, CUDA and CUDNN tooklit installtion is required."
   ]
  },
  {
   "cell_type": "markdown",
   "id": "86a34f30",
   "metadata": {},
   "source": []
  }
 ],
 "metadata": {
  "kernelspec": {
   "display_name": "Python 3",
   "language": "python",
   "name": "python3"
  },
  "language_info": {
   "name": "python",
   "version": "3.11.11"
  }
 },
 "nbformat": 4,
 "nbformat_minor": 5
}
